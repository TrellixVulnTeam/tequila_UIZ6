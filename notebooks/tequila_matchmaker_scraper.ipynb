{
 "cells": [
  {
   "cell_type": "markdown",
   "id": "horizontal-trading",
   "metadata": {},
   "source": [
    "Perfectly formed html, different parsers don't matter\n",
    "LXML parser recommended by beautiful soup.\n",
    "html5lib is another popular parser."
   ]
  },
  {
   "cell_type": "code",
   "execution_count": 5,
   "id": "negative-imagination",
   "metadata": {},
   "outputs": [],
   "source": [
    "from bs4 import BeautifulSoup\n",
    "import requests"
   ]
  },
  {
   "cell_type": "code",
   "execution_count": 12,
   "id": "finite-builder",
   "metadata": {},
   "outputs": [],
   "source": [
    "# Fetch content from website. 'get' function returns a response object which is being saved to source variable here.\n",
    "\n",
    "source = requests.get('https://www.tequilamatchmaker.com/tequilas/2634-san-matias-gran-reserva-us#ratings').text"
   ]
  },
  {
   "cell_type": "code",
   "execution_count": 24,
   "id": "convinced-distribution",
   "metadata": {},
   "outputs": [],
   "source": [
    "# Parse content from get request with BeautifulSoup and save to variable.\n",
    "\n",
    "content = BeautifulSoup(source, 'lxml')\n",
    "#print(soup.prettify())"
   ]
  },
  {
   "cell_type": "code",
   "execution_count": 25,
   "id": "inside-humidity",
   "metadata": {},
   "outputs": [],
   "source": [
    "product_container = content.find('div', class_='product_container')"
   ]
  },
  {
   "cell_type": "code",
   "execution_count": 73,
   "id": "english-pound",
   "metadata": {},
   "outputs": [
    {
     "name": "stdout",
     "output_type": "stream",
     "text": [
      "San Matias Gran Reserva (US)\n"
     ]
    }
   ],
   "source": [
    "product_name = product_container.find('h1', attrs={'itemprop':'name'}).text.strip()\n",
    "print(product_name)"
   ]
  },
  {
   "cell_type": "code",
   "execution_count": 65,
   "id": "lasting-cause",
   "metadata": {},
   "outputs": [
    {
     "name": "stdout",
     "output_type": "stream",
     "text": [
      "Tequila\n"
     ]
    }
   ],
   "source": [
    "product_type = (product_container.select_one('div[class*=\"product-type\"]')\n",
    "                .find('a').text\n",
    "               )\n",
    "print(product_type)"
   ]
  },
  {
   "cell_type": "code",
   "execution_count": 68,
   "id": "verified-change",
   "metadata": {},
   "outputs": [
    {
     "name": "stdout",
     "output_type": "stream",
     "text": [
      "Casa San Matias\n"
     ]
    }
   ],
   "source": [
    "product_brand = (product_container.select_one('div[class*=\"product-brand\"]')\n",
    "                .find('a').text\n",
    "               )\n",
    "print(product_brand)"
   ]
  },
  {
   "cell_type": "code",
   "execution_count": 74,
   "id": "million-gateway",
   "metadata": {},
   "outputs": [
    {
     "name": "stdout",
     "output_type": "stream",
     "text": [
      "San Matias Gran Reserva (US)\n",
      "Tequila\n",
      "Casa San Matias\n"
     ]
    }
   ],
   "source": [
    "print(product_name)\n",
    "print(product_type)\n",
    "print(product_brand)"
   ]
  },
  {
   "cell_type": "code",
   "execution_count": null,
   "id": "alone-japanese",
   "metadata": {},
   "outputs": [],
   "source": []
  }
 ],
 "metadata": {
  "kernelspec": {
   "display_name": "Tequila Scraper",
   "language": "python",
   "name": "venv_tequila_web_scraper"
  },
  "language_info": {
   "codemirror_mode": {
    "name": "ipython",
    "version": 3
   },
   "file_extension": ".py",
   "mimetype": "text/x-python",
   "name": "python",
   "nbconvert_exporter": "python",
   "pygments_lexer": "ipython3",
   "version": "3.9.2"
  }
 },
 "nbformat": 4,
 "nbformat_minor": 5
}
